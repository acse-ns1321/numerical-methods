{
 "cells": [
  {
   "cell_type": "code",
   "execution_count": 1,
   "metadata": {},
   "outputs": [],
   "source": [
    "%matplotlib inline\n",
    "%precision 16\n",
    "import numpy as np\n",
    "import matplotlib.pyplot as plt\n",
    "import scipy.linalg as sl\n",
    "\n",
    "# prints in a way that we can cut and paste directly into code\n",
    "from pprint import pprint\n",
    "\n",
    "# font sizes for plots\n",
    "plt.rcParams['font.size'] = 12\n",
    "plt.rcParams['font.family'] = 'sans-serif'\n",
    "plt.rcParams['font.sans-serif'] = ['Arial', 'Dejavu Sans']"
   ]
  },
  {
   "cell_type": "markdown",
   "metadata": {},
   "source": [
    "# Gaussian Elimination"
   ]
  },
  {
   "cell_type": "markdown",
   "metadata": {},
   "source": [
    "## Steps\n",
    "Step 1 : Elimination Stage \\\n",
    "Step 2 : Substitution Stage\n"
   ]
  },
  {
   "cell_type": "markdown",
   "metadata": {},
   "source": [
    "## Step 1 : Elimination Algorithm\n",
    "\n",
    "\\begin{align*}\n",
    "A_{ij} &\\leftarrow A_{ij} - \\frac{A_{ik}}{A_{kk}} A_{kj}, \\quad j=k, \\, k+1, \\, \\ldots, \\, n\\\\\n",
    "b_i &\\leftarrow b_i - \\frac{A_{ik}}{A_{kk}} b_{k},\n",
    "\\end{align*}\n",
    "\n",
    "for all $i\\ge k+1$. \n",
    "\n",
    "## Elimination implementation\n",
    "Code that takes a matrix $A$ and a vector $\\boldsymbol{b}$ and converts it into upper-triangular form . It is a form of in-place elimination"
   ]
  },
  {
   "cell_type": "code",
   "execution_count": 3,
   "metadata": {},
   "outputs": [
    {
     "name": "stdout",
     "output_type": "stream",
     "text": [
      "Our A matrix following row operations to transform it into upper-triangular form:\n",
      "array([[ 2. ,  3. ],\n",
      "       [ 0. , -5.5]])\n",
      "The correspondingly updated b vector:\n",
      "array([ 7. , -0.5])\n",
      "\n",
      "Our A matrix following row operations to transform it into upper-triangular form:\n",
      "array([[ 2.,  3., -4.],\n",
      "       [ 0., -1., 14.],\n",
      "       [ 0.,  0., 30.]])\n",
      "The correspondingly updated b vector:\n",
      "array([  5., -12., -15.])\n"
     ]
    }
   ],
   "source": [
    "def upper_triangle(A, b):\n",
    "    \"\"\" A function to covert A into upper triangluar form through row operations.\n",
    "    The same row operations are performed on the vector b.\n",
    "    \n",
    "    Note that this implementation does not use partial pivoting which is introduced below.\n",
    "    \n",
    "    Also note that A and b are overwritten, and hence we do not need to return anything\n",
    "    from the function.\n",
    "    \"\"\"\n",
    "    n = np.size(b)\n",
    "    rows, cols = np.shape(A)\n",
    "    # check A is square\n",
    "    assert(rows == cols)\n",
    "    # and check A has the same numner of rows as the size of the vector b\n",
    "    assert(rows == n)\n",
    "\n",
    "    # Loop over each pivot row - all but the last row which we will never need to use as a pivot\n",
    "    for k in range(n-1):\n",
    "        # Loop over each row below the pivot row, including the last row which we do need to update\n",
    "        for i in range(k+1, n):\n",
    "            # Define the scaling factor for this row outside the innermost loop otherwise \n",
    "            # its value gets changed as you over-write A!!\n",
    "            # There's also a performance saving from not recomputing things when not strictly necessary\n",
    "            s = (A[i, k] / A[k, k])\n",
    "            # Update the current row of A by looping over the column j\n",
    "            # start the loop from k as we can assume the entries before this are already zero\n",
    "            for j in range(k, n):\n",
    "                A[i, j] = A[i, j] - s*A[k, j]\n",
    "            # and update the corresponding entry of b\n",
    "            b[i] = b[i] - s*b[k]\n",
    "\n",
    "\n",
    "# Test our code on our 2x2 and 3x3 examples from above\n",
    "\n",
    "# 2x2 example from above\n",
    "A = np.array([[2., 3.], [1., -4.]])\n",
    "b = np.array([7., 3.])\n",
    "\n",
    "upper_triangle(A, b)\n",
    "\n",
    "print('Our A matrix following row operations to transform it into upper-triangular form:')\n",
    "pprint(A)\n",
    "print('The correspondingly updated b vector:')\n",
    "pprint(b)\n",
    "\n",
    "# 3x3 example from homework exercise\n",
    "A = np.array([[2., 3., -4.],\n",
    "              [6., 8., 2.],\n",
    "              [4., 8., -6.]])\n",
    "b = np.array([5., 3., 19.])\n",
    "\n",
    "upper_triangle(A, b)\n",
    "\n",
    "print('\\nOur A matrix following row operations to transform it into upper-triangular form:')\n",
    "pprint(A)\n",
    "print('The correspondingly updated b vector:')\n",
    "pprint(b)"
   ]
  },
  {
   "cell_type": "markdown",
   "metadata": {},
   "source": [
    "### Comments\n",
    "\n",
    "- Note that in this implementation we operated on $A$ and $b$ independently. \n",
    "\n",
    "\n",
    "- We could have saved a few lines of code by forming the augmented matrix inside the function and updating the `for j in range(k, n):` loop to `range(k, n+1)`. \n",
    "\n",
    "\n",
    "- `numpy.hstack` could have been be used to form the augmented matrix - you could try implementing this yourself."
   ]
  },
  {
   "cell_type": "markdown",
   "metadata": {},
   "source": [
    "## Step 2: Back substitution algorithm\n",
    "\\begin{align*}\n",
    " x_{k} &= \\frac{1}{A_{kk}}\\left( b_k - \\sum_{j=k+1}^{n}A_{kj}x_j\\right).\n",
    "\\end{align*}"
   ]
  },
  {
   "cell_type": "markdown",
   "metadata": {},
   "source": []
  },
  {
   "cell_type": "code",
   "execution_count": 4,
   "metadata": {},
   "outputs": [
    {
     "name": "stdout",
     "output_type": "stream",
     "text": [
      "array([-6. ,  5. , -0.5])\n",
      "array([-5.999999999999998 ,  4.999999999999999 , -0.4999999999999998])\n",
      "Success:  True\n"
     ]
    }
   ],
   "source": [
    "# This function assumes that A is already an upper triangular matrix, \n",
    "# e.g. we have already run our upper_triangular function if needed.\n",
    "\n",
    "def back_substitution(A, b):\n",
    "    \"\"\" Function to perform back subsitution on the system Ax=b.\n",
    "    \n",
    "    Returns the solution x.\n",
    "    \n",
    "    Assumes that A is on upper triangluar form.\n",
    "    \"\"\"\n",
    "    n = np.size(b)\n",
    "    # Check A is square and its number of rows and columns same as size of the vector b\n",
    "    rows, cols = np.shape(A)\n",
    "    assert(rows == cols)\n",
    "    assert(rows == n)\n",
    "    # We can/should check that A is upper triangular using np.triu which is the \n",
    "    # upper triangular part of a matrix - if A is already upper triangular, then\n",
    "    # it should of course match the upper-triangular component of A!!\n",
    "    assert(np.allclose(A, np.triu(A)))\n",
    "    \n",
    "    x = np.zeros(n)\n",
    "    # start at the end (row n-1) and work backwards\n",
    "    for k in range(n-1, -1, -1):\n",
    "        # note that we could do this update in a single vectorised line \n",
    "        # using np.dot or @ - this could also speed things up\n",
    "        s = 0.\n",
    "        for j in range(k+1, n):\n",
    "            s = s + A[k, j]*x[j]\n",
    "        x[k] = (b[k] - s)/A[k, k]\n",
    "\n",
    "    return x\n",
    "\n",
    "\n",
    "# This A is the upper triangular matrix carried forward\n",
    "# from the Python box above, and b the correspondingly updated b vector.\n",
    "A = np.array([[ 2.,  3., -4.],\n",
    "              [ 0., -1., 14.],\n",
    "              [ 0.,  0., 30.]])\n",
    "b = np.array([  5., -12., -15.])\n",
    "\n",
    "# print the solution using our codes\n",
    "x = back_substitution(A, b)\n",
    "pprint(x)  \n",
    "\n",
    "# Reinitialise A and b !\n",
    "# remember our functions overwrote them\n",
    "A = np.array([[2., 3., -4.],\n",
    "                 [6., 8., 2.],\n",
    "                 [4., 8., -6.]])\n",
    "b = np.array([5., 3., 19.])\n",
    "\n",
    "# check our answer against what SciPy gives us by multiplying b by A inverse \n",
    "pprint(sl.inv(A) @ b)\n",
    "\n",
    "print('Success: ', np.allclose(x, sl.inv(A) @ b))"
   ]
  },
  {
   "cell_type": "markdown",
   "metadata": {},
   "source": [
    "## Putting things together - a Gaussian elimination function\n",
    "\n",
    "As we shall see in the homework, we can wrap up our calls to our upper triangle and back substitution functions with something like\n",
    "\n",
    "```Python\n",
    "def gaussian_elimination(A,b):\n",
    "    Acopy = A.copy()\n",
    "    bcopy = b.copy()\n",
    "    upper_triangle(Acopy,bcopy)\n",
    "    x = back_substitution(Acopy, bcopy)\n",
    "    return x  \n",
    "```"
   ]
  }
 ],
 "metadata": {
  "interpreter": {
   "hash": "949f25e8de9a54f009ebddecafd226a2bd810786ab125a3853f1ee96e9036723"
  },
  "kernelspec": {
   "display_name": "Python 3.10.1 64-bit",
   "language": "python",
   "name": "python3"
  },
  "language_info": {
   "codemirror_mode": {
    "name": "ipython",
    "version": 3
   },
   "file_extension": ".py",
   "mimetype": "text/x-python",
   "name": "python",
   "nbconvert_exporter": "python",
   "pygments_lexer": "ipython3",
   "version": "3.10.1"
  },
  "orig_nbformat": 4
 },
 "nbformat": 4,
 "nbformat_minor": 2
}
